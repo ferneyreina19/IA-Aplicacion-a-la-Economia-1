{
  "cells": [
    {
      "cell_type": "markdown",
      "metadata": {
        "id": "4A_GfFHIq-AW"
      },
      "source": [
        "# **UNIVERSIDAD EXTERNADO DE COLOMBIA**\n",
        "\n"
      ]
    },
    {
      "cell_type": "markdown",
      "metadata": {
        "id": "Fz8j9lH0rY7M"
      },
      "source": [
        "# **INTELIGENCIA ARTIFICIAL CON APLICACIONES EN ECONOMÍA I**"
      ]
    },
    {
      "cell_type": "markdown",
      "metadata": {
        "id": "CHbZ88pIrZvm"
      },
      "source": [
        "# **TALLER CONDICIONALES, BUCLES Y FUNCIONES**"
      ]
    },
    {
      "cell_type": "markdown",
      "metadata": {
        "id": "5P1oYNQHrgfw"
      },
      "source": [
        "Docente: Lina María Castro\n",
        "\n",
        "28 de agosto de 2025\n"
      ]
    },
    {
      "cell_type": "markdown",
      "metadata": {
        "id": "sKBuSOD4tZDu"
      },
      "source": [
        "- Plazo máximo de entrega: jueves, 4 de septiembre de 2025 antes de las 11:59 p.m.\n",
        "\n",
        "-\tForma de entrega: Jupyter Notebook publicado en su cuenta de Github con el nombre “Taller_condicionales_bucles_funciones.ipynb”. Ser ordenado: debe aparecer el número del ejercicio, el código y el resultado del código. Enviar link del notebook al correo lmcastroco@gmail.com antes del plazo máximo de entrega, de lo contrario, no será tenido en cuenta.\n",
        "\n",
        "- En el caso de las funciones, no olvides colocar la documentacióne/explicación.\n"
      ]
    },
    {
      "cell_type": "markdown",
      "metadata": {
        "id": "5hmIxbJWcya9"
      },
      "source": [
        "## **Ejercicio 1**"
      ]
    },
    {
      "cell_type": "markdown",
      "metadata": {
        "id": "O5qhW3NTvG0W"
      },
      "source": [
        "Escribe un programa que pida la inflación y muestre el porcentaje de aumento salarial aprobado teniendo en cuenta las siguientes condiciones:\n",
        "\n",
        "- Si la inflación es mayor al 10%, el gobierno aprueba un aumento salarial del 12%.\n",
        "\n",
        "- Si la inflación está entre 6% y 10%, el aumento es del 8%.\n",
        "\n",
        "- Si es menor al 6%, el aumento es del 5%."
      ]
    },
    {
      "cell_type": "code",
      "execution_count": 4,
      "metadata": {
        "colab": {
          "base_uri": "https://localhost:8080/"
        },
        "id": "BYeg_UmYvM1b",
        "outputId": "524833b9-f14f-42a4-99ed-ed55f12d2cdd"
      },
      "outputs": [
        {
          "output_type": "stream",
          "name": "stdout",
          "text": [
            "Ingrese la inflación: 0.1\n",
            "El aumento salarial es del 8.0%\n"
          ]
        }
      ],
      "source": [
        "inflacion = float(input(\"Ingrese la inflación: \"))\n",
        "\n",
        "if inflacion > 0.10:\n",
        "  aumento = 0.12\n",
        "  print(f\"El aumento salarial es del {aumento*100}%\")\n",
        "elif inflacion >= 0.06 and inflacion <= 0.10:\n",
        "  aumento = 0.08\n",
        "  print(f\"El aumento salarial es del {aumento*100}%\")\n",
        "else:\n",
        "  aumento = 0.05\n",
        "  print(f\"El aumento salarial es del {aumento*100}%\")\n"
      ]
    },
    {
      "cell_type": "markdown",
      "metadata": {
        "id": "YyVVr95xdXJp"
      },
      "source": [
        "## **Ejercicio 2**"
      ]
    },
    {
      "cell_type": "markdown",
      "metadata": {
        "id": "wS3C-5scsUcB"
      },
      "source": [
        "Tienes una lista con el número de empresas registradas en diferentes ciudades. Usa un ciclo for para contar cuántas ciudades tienen más de 100 empresas y muestra el resultado en pantalla como: \"Número de ciudades con más de 100 empresas: X\""
      ]
    },
    {
      "cell_type": "code",
      "execution_count": 5,
      "metadata": {
        "id": "R37wEVbcsW6A"
      },
      "outputs": [],
      "source": [
        "empresas = [120, 85, 340, 210, 95]"
      ]
    },
    {
      "cell_type": "code",
      "execution_count": 10,
      "metadata": {
        "colab": {
          "base_uri": "https://localhost:8080/"
        },
        "id": "uTrbrdrw5-UO",
        "outputId": "85695f39-b646-4d4f-cb03-8d655bce1335"
      },
      "outputs": [
        {
          "output_type": "stream",
          "name": "stdout",
          "text": [
            "Número de ciudades con más de 100 empresas: 120\n",
            "Número de ciudades con más de 100 empresas: 340\n",
            "Número de ciudades con más de 100 empresas: 210\n"
          ]
        }
      ],
      "source": [
        "for empresa in empresas:\n",
        "  if empresa > 100:\n",
        "    print(f\"Número de ciudades con más de 100 empresas: {empresa}\")"
      ]
    },
    {
      "cell_type": "markdown",
      "metadata": {
        "id": "dP59USPQdaoU"
      },
      "source": [
        "## **Ejercicio 3**"
      ]
    },
    {
      "cell_type": "markdown",
      "metadata": {
        "id": "ASHwOJt3nheQ"
      },
      "source": [
        "Escribe un programa que imprima todos los múltiplos de 5 entre 1 y 50, utilizando range()."
      ]
    },
    {
      "cell_type": "code",
      "execution_count": 11,
      "metadata": {
        "id": "P7vEcQqpntGN"
      },
      "outputs": [],
      "source": [
        "def multiplos_de_5():\n",
        "  \"\"\"\n",
        "  Imprime todos los múltiplos de 5 entre 1 y 50.\n",
        "  \"\"\"\n",
        "  for numero in range(1, 51):\n",
        "    if numero % 5 == 0:\n",
        "      print(numero)"
      ]
    },
    {
      "cell_type": "code",
      "source": [
        "multiplos_de_5()"
      ],
      "metadata": {
        "id": "33nzm4BVc3jO",
        "outputId": "19ab34c2-6320-4e6b-c11a-581f35e8b95f",
        "colab": {
          "base_uri": "https://localhost:8080/"
        }
      },
      "execution_count": 12,
      "outputs": [
        {
          "output_type": "stream",
          "name": "stdout",
          "text": [
            "5\n",
            "10\n",
            "15\n",
            "20\n",
            "25\n",
            "30\n",
            "35\n",
            "40\n",
            "45\n",
            "50\n"
          ]
        }
      ]
    },
    {
      "cell_type": "markdown",
      "metadata": {
        "id": "oPcumFlidsGv"
      },
      "source": [
        "## **Ejercicio 4**"
      ]
    },
    {
      "cell_type": "markdown",
      "metadata": {
        "id": "5wvJv2GPt6Qf"
      },
      "source": [
        "Un cajero automático tiene 500.000 pesos disponibles.\n",
        "Un usuario puede retirar varias veces, pero no puede retirar más de lo que queda en el cajero. Escribe un programa que:\n",
        "\n",
        "- Pregunte cuánto quiere retirar.\n",
        "\n",
        "- Reste ese valor al saldo.\n",
        "\n",
        "- Termine cuando el saldo llegue a 0 o el usuario escriba 0."
      ]
    },
    {
      "cell_type": "code",
      "execution_count": 23,
      "metadata": {
        "colab": {
          "base_uri": "https://localhost:8080/",
          "height": 106
        },
        "id": "BJDxIqocuEz3",
        "outputId": "b18ca0f4-6436-4893-9933-abfa475805a9"
      },
      "outputs": [
        {
          "output_type": "error",
          "ename": "SyntaxError",
          "evalue": "invalid syntax (ipython-input-4185785581.py, line 4)",
          "traceback": [
            "\u001b[0;36m  File \u001b[0;32m\"/tmp/ipython-input-4185785581.py\"\u001b[0;36m, line \u001b[0;32m4\u001b[0m\n\u001b[0;31m    for  = Restante:\u001b[0m\n\u001b[0m         ^\u001b[0m\n\u001b[0;31mSyntaxError\u001b[0m\u001b[0;31m:\u001b[0m invalid syntax\n"
          ]
        }
      ],
      "source": [
        "Cajero = 500000\n",
        "retiro = int(input(\"¿Cuánto quiere retirar? \"))\n",
        "Restante = Cajero - retiro\n",
        "for  = Restante:\n",
        "  print(f\"Su saldo es de {Restante}\")\n",
        "else:\n",
        "  print(\"No tiene saldo suficiente\")\n",
        "\n",
        "\n",
        "\n",
        "  if retiro == 0:\n",
        "    print(\"Fin del programa\")\n",
        "\n",
        "\n"
      ]
    },
    {
      "cell_type": "markdown",
      "metadata": {
        "id": "uAz_wjs2gs7c"
      },
      "source": [
        "## **Ejercicio 5**"
      ]
    },
    {
      "cell_type": "markdown",
      "metadata": {
        "id": "3L7NHs7hSLKE"
      },
      "source": [
        "Crea una función raiz_cuadrada(num) que calcule la raíz cuadrada de un número.\n",
        "\n",
        "Si el número es negativo, devuelve: \"Error: no se puede calcular la raíz cuadrada de un número negativo.\"\n",
        "\n",
        "Si el valor no es numérico, devuelve: \"Error: el valor debe ser numérico.\"\n",
        "\n",
        "NOTA: utiliza import math y la función math.sqrt(num)"
      ]
    },
    {
      "cell_type": "code",
      "execution_count": null,
      "metadata": {
        "id": "-fh0PUPbSNvl"
      },
      "outputs": [],
      "source": [
        "import math\n",
        "\n",
        "def raiz_cuadrada(num):"
      ]
    },
    {
      "cell_type": "code",
      "execution_count": null,
      "metadata": {
        "id": "lMXQSzyESOHF"
      },
      "outputs": [],
      "source": [
        "print(raiz_cuadrada(16))    # 4.0"
      ]
    },
    {
      "cell_type": "code",
      "execution_count": null,
      "metadata": {
        "id": "uXkpBQrNSQi_"
      },
      "outputs": [],
      "source": [
        "print(raiz_cuadrada(-9))    # Error: no se puede calcular la raíz cuadrada de un número negativo."
      ]
    },
    {
      "cell_type": "code",
      "execution_count": null,
      "metadata": {
        "id": "i-0qVNphSTuf"
      },
      "outputs": [],
      "source": [
        "print(raiz_cuadrada(\"abc\")) # Error: el valor debe ser numérico."
      ]
    },
    {
      "cell_type": "markdown",
      "metadata": {
        "id": "dOjMrj-9pfwA"
      },
      "source": [
        "## **Ejercicio 6**"
      ]
    },
    {
      "cell_type": "markdown",
      "metadata": {
        "id": "voXscZI7TPRp"
      },
      "source": [
        "Escribe una función llamada es_par que reciba un número entero como parámetro y retorne True si el número es par y False si es impar.\n",
        "\n",
        "NOTA: % es el operador módulo en Python. Lo que hace es dividir un número entre otro y devolver el residuo (lo que sobra de la división entera).\n",
        "\n",
        "Si al dividir un número en 2, el residuo es cero, entonces el número es par, de lo contrario, es impar."
      ]
    },
    {
      "cell_type": "code",
      "execution_count": null,
      "metadata": {
        "id": "q55DMdeZTS-B"
      },
      "outputs": [],
      "source": [
        "# Para verificar que es par: numero % 2 == 0\n",
        "def es_par(numero):"
      ]
    },
    {
      "cell_type": "code",
      "execution_count": null,
      "metadata": {
        "id": "BVx7hr_nTWv9"
      },
      "outputs": [],
      "source": [
        "print(es_par(10))   # Debería imprimir True"
      ]
    },
    {
      "cell_type": "code",
      "execution_count": null,
      "metadata": {
        "id": "EX38wbcdTTR0"
      },
      "outputs": [],
      "source": [
        "print(es_par(7))    # Debería imprimir False"
      ]
    },
    {
      "cell_type": "markdown",
      "metadata": {
        "id": "IcNuG-Cggw47"
      },
      "source": [
        "## **Ejercicio 7**"
      ]
    },
    {
      "cell_type": "markdown",
      "metadata": {
        "id": "yJ-RPbINSAu6"
      },
      "source": [
        "Escribe un código que permita al usuario crear una contraseña y que verifique que esta cumpla todas las siguientes condiciones:\n",
        "\n",
        "- Tiene al menos 8 caracteres.\n",
        "\n",
        "- Contiene al menos una letra mayúscula.\n",
        "\n",
        "- Contiene al menos una letra minúscula.\n",
        "\n",
        "- Contiene al menos un número.\n",
        "\n",
        "Si cumple todas las condiciones, muestra \"Contraseña válida\", de lo contrario, explica qué condición no se cumple."
      ]
    },
    {
      "cell_type": "code",
      "execution_count": null,
      "metadata": {
        "id": "306D2pg7SAF-"
      },
      "outputs": [],
      "source": []
    },
    {
      "cell_type": "markdown",
      "metadata": {
        "id": "vdgQ-4Atv7TZ"
      },
      "source": [
        "## **Ejercicio 8**"
      ]
    },
    {
      "cell_type": "markdown",
      "metadata": {
        "id": "qZ5desSUv_Z9"
      },
      "source": [
        "Crea una función llamada \"extraer_dominio\" que extraiga el dominio de una página web a partir de una cadena que contenga un email de la siguiente forma:\n",
        "\n",
        "usuario@dominio.com\n",
        "    \n",
        "Por ejemplo: si se le pasa \"lmcastroco@gmail.com\", la función retornará: gmail.com"
      ]
    },
    {
      "cell_type": "code",
      "execution_count": null,
      "metadata": {
        "id": "SnLVmAoUv_aC"
      },
      "outputs": [],
      "source": [
        "def extraer_dominio(email):"
      ]
    },
    {
      "cell_type": "code",
      "execution_count": null,
      "metadata": {
        "id": "uQK42HdWv_aI"
      },
      "outputs": [],
      "source": [
        "extraer_dominio('juanita@gmail.com')  # Debería retornar 'gmail.com'"
      ]
    },
    {
      "cell_type": "code",
      "execution_count": null,
      "metadata": {
        "id": "44R1evuAv_aU"
      },
      "outputs": [],
      "source": [
        "extraer_dominio('juanita.perez@hotmail.com') # Debería retornar 'hotmail.com'"
      ]
    },
    {
      "cell_type": "markdown",
      "metadata": {
        "id": "W5GXHY7GwSxU"
      },
      "source": [
        "## **Ejercicio 9**"
      ]
    },
    {
      "cell_type": "markdown",
      "metadata": {
        "id": "TpfnyisEv_ag"
      },
      "source": [
        "Escribe una función llamada contar_desempleo que reciba una cadena y retorne el número de veces que aparece la palabra \"desempleo\" en el texto. Ten en cuenta que la palabra puede estar en mayúsculas, minúsculas o una mezcla de ellas, pero por ahora no te preocupes por casos especiales como cuando la palabra tiene algún signo de puntuación inmediatamente despúes de ésta."
      ]
    },
    {
      "cell_type": "code",
      "execution_count": null,
      "metadata": {
        "id": "fWWwTWNl0WcE"
      },
      "outputs": [],
      "source": [
        "def contar_desempleo(cadena):"
      ]
    },
    {
      "cell_type": "code",
      "execution_count": null,
      "metadata": {
        "id": "kOVujSn_v_bK"
      },
      "outputs": [],
      "source": [
        "contar_desempleo(\"El desempleo es un problema. El DESEMPLEO afecta a muchas personas.\")"
      ]
    },
    {
      "cell_type": "code",
      "execution_count": null,
      "metadata": {
        "id": "xIaZJfLK0P-f"
      },
      "outputs": [],
      "source": [
        "contar_desempleo(\"El dEseMPLeo aumentó en enero.\")"
      ]
    },
    {
      "cell_type": "code",
      "execution_count": null,
      "metadata": {
        "id": "2PaQ6jV70ShH"
      },
      "outputs": [],
      "source": [
        "contar_desempleo(\"El gobierno tiene como meta reducir el número de personas desocupadas un 10%.\")"
      ]
    },
    {
      "cell_type": "markdown",
      "metadata": {
        "id": "dWBokSMZwgTc"
      },
      "source": [
        "## **Ejercicio 10**"
      ]
    },
    {
      "cell_type": "markdown",
      "metadata": {
        "id": "xE0y1M7gv_bl"
      },
      "source": [
        "Vas conduciendo un carro muy rápido y eres detenido por un agente de tránsito.\n",
        "\n",
        "Escribe una función \"multa\" que retorne uno de los 3 siguientes resultados:  \n",
        "\n",
        "- Si la velocidad es 60 Km/h o menos, el resultado es \"Sin multa\".\n",
        "- Si la velocidad está entre 60 y 80 Km/h (inclusive), el resultado es \"Multa pequeña\".\n",
        "- Si la velocidad es mayor a 80 Km/h, el resultado es \"Multa grande\".\n",
        "\n",
        "Además, considera que si esto ocurre el día de tu cumpleaños (codificado como parámetro booleano que recibe la función), tu velocidad podría ser 5 Km/ mayor en todos los casos."
      ]
    },
    {
      "cell_type": "code",
      "execution_count": null,
      "metadata": {
        "id": "Hp7qfR0L2qJx"
      },
      "outputs": [],
      "source": [
        "def multa(velocidad, cumpleanios):"
      ]
    },
    {
      "cell_type": "code",
      "execution_count": null,
      "metadata": {
        "id": "yLWqy7NWv_bv"
      },
      "outputs": [],
      "source": [
        "multa(81, True)"
      ]
    },
    {
      "cell_type": "code",
      "execution_count": null,
      "metadata": {
        "id": "Azjv8GE7v_b0"
      },
      "outputs": [],
      "source": [
        "multa(81, False)"
      ]
    }
  ],
  "metadata": {
    "colab": {
      "provenance": [],
      "toc_visible": true
    },
    "kernelspec": {
      "display_name": "Python 3",
      "name": "python3"
    },
    "language_info": {
      "name": "python"
    }
  },
  "nbformat": 4,
  "nbformat_minor": 0
}