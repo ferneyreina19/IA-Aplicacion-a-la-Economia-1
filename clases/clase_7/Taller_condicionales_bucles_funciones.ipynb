{
  "cells": [
    {
      "cell_type": "markdown",
      "metadata": {
        "id": "4A_GfFHIq-AW"
      },
      "source": [
        "# **UNIVERSIDAD EXTERNADO DE COLOMBIA**\n",
        "\n"
      ]
    },
    {
      "cell_type": "markdown",
      "metadata": {
        "id": "Fz8j9lH0rY7M"
      },
      "source": [
        "# **INTELIGENCIA ARTIFICIAL CON APLICACIONES EN ECONOMÍA I**"
      ]
    },
    {
      "cell_type": "markdown",
      "metadata": {
        "id": "CHbZ88pIrZvm"
      },
      "source": [
        "# **TALLER CONDICIONALES, BUCLES Y FUNCIONES**"
      ]
    },
    {
      "cell_type": "markdown",
      "metadata": {
        "id": "5P1oYNQHrgfw"
      },
      "source": [
        "Docente: Lina María Castro\n",
        "\n",
        "28 de agosto de 2025\n"
      ]
    },
    {
      "cell_type": "markdown",
      "metadata": {
        "id": "sKBuSOD4tZDu"
      },
      "source": [
        "- Plazo máximo de entrega: jueves, 4 de septiembre de 2025 antes de las 11:59 p.m.\n",
        "\n",
        "-\tForma de entrega: Jupyter Notebook publicado en su cuenta de Github con el nombre “Taller_condicionales_bucles_funciones.ipynb”. Ser ordenado: debe aparecer el número del ejercicio, el código y el resultado del código. Enviar link del notebook al correo lmcastroco@gmail.com antes del plazo máximo de entrega, de lo contrario, no será tenido en cuenta.\n",
        "\n",
        "- En el caso de las funciones, no olvides colocar la documentacióne/explicación.\n"
      ]
    },
    {
      "cell_type": "markdown",
      "metadata": {
        "id": "5hmIxbJWcya9"
      },
      "source": [
        "## **Ejercicio 1**"
      ]
    },
    {
      "cell_type": "markdown",
      "metadata": {
        "id": "O5qhW3NTvG0W"
      },
      "source": [
        "Escribe un programa que pida la inflación y muestre el porcentaje de aumento salarial aprobado teniendo en cuenta las siguientes condiciones:\n",
        "\n",
        "- Si la inflación es mayor al 10%, el gobierno aprueba un aumento salarial del 12%.\n",
        "\n",
        "- Si la inflación está entre 6% y 10%, el aumento es del 8%.\n",
        "\n",
        "- Si es menor al 6%, el aumento es del 5%."
      ]
    },
    {
      "cell_type": "code",
      "execution_count": null,
      "metadata": {
        "colab": {
          "base_uri": "https://localhost:8080/"
        },
        "id": "BYeg_UmYvM1b",
        "outputId": "524833b9-f14f-42a4-99ed-ed55f12d2cdd"
      },
      "outputs": [
        {
          "output_type": "stream",
          "name": "stdout",
          "text": [
            "Ingrese la inflación: 0.1\n",
            "El aumento salarial es del 8.0%\n"
          ]
        }
      ],
      "source": [
        "inflacion = float(input(\"Ingrese la inflación: \"))\n",
        "\n",
        "if inflacion > 0.10:\n",
        "  aumento = 0.12\n",
        "  print(f\"El aumento salarial es del {aumento*100}%\")\n",
        "elif inflacion >= 0.06 and inflacion <= 0.10:\n",
        "  aumento = 0.08\n",
        "  print(f\"El aumento salarial es del {aumento*100}%\")\n",
        "else:\n",
        "  aumento = 0.05\n",
        "  print(f\"El aumento salarial es del {aumento*100}%\")\n"
      ]
    },
    {
      "cell_type": "markdown",
      "metadata": {
        "id": "YyVVr95xdXJp"
      },
      "source": [
        "## **Ejercicio 2**"
      ]
    },
    {
      "cell_type": "markdown",
      "metadata": {
        "id": "wS3C-5scsUcB"
      },
      "source": [
        "Tienes una lista con el número de empresas registradas en diferentes ciudades. Usa un ciclo for para contar cuántas ciudades tienen más de 100 empresas y muestra el resultado en pantalla como: \"Número de ciudades con más de 100 empresas: X\""
      ]
    },
    {
      "cell_type": "code",
      "execution_count": 43,
      "metadata": {
        "id": "R37wEVbcsW6A"
      },
      "outputs": [],
      "source": [
        "empresas = [120, 85, 340, 210, 95]"
      ]
    },
    {
      "cell_type": "code",
      "execution_count": 51,
      "metadata": {
        "colab": {
          "base_uri": "https://localhost:8080/"
        },
        "id": "uTrbrdrw5-UO",
        "outputId": "07ec6bd3-c5be-44c0-b863-62cba659118d"
      },
      "outputs": [
        {
          "output_type": "stream",
          "name": "stdout",
          "text": [
            "Número de ciudades con más de 100 empresas: 3\n"
          ]
        }
      ],
      "source": [
        "contador = 0\n",
        "for numero in empresas:\n",
        "  if numero > 100:\n",
        "    contador += 1\n",
        "print(f\"Número de ciudades con más de 100 empresas: {contador}\")"
      ]
    },
    {
      "cell_type": "markdown",
      "metadata": {
        "id": "dP59USPQdaoU"
      },
      "source": [
        "## **Ejercicio 3**"
      ]
    },
    {
      "cell_type": "markdown",
      "metadata": {
        "id": "ASHwOJt3nheQ"
      },
      "source": [
        "Escribe un programa que imprima todos los múltiplos de 5 entre 1 y 50, utilizando range()."
      ]
    },
    {
      "cell_type": "code",
      "execution_count": null,
      "metadata": {
        "id": "P7vEcQqpntGN"
      },
      "outputs": [],
      "source": [
        "def multiplos_de_5():\n",
        "  \"\"\"\n",
        "  Imprime todos los múltiplos de 5 entre 1 y 50.\n",
        "  \"\"\"\n",
        "  for numero in range(1, 51):\n",
        "    if numero % 5 == 0:\n",
        "      print(numero)"
      ]
    },
    {
      "cell_type": "code",
      "source": [
        "multiplos_de_5()"
      ],
      "metadata": {
        "id": "33nzm4BVc3jO",
        "outputId": "19ab34c2-6320-4e6b-c11a-581f35e8b95f",
        "colab": {
          "base_uri": "https://localhost:8080/"
        }
      },
      "execution_count": null,
      "outputs": [
        {
          "output_type": "stream",
          "name": "stdout",
          "text": [
            "5\n",
            "10\n",
            "15\n",
            "20\n",
            "25\n",
            "30\n",
            "35\n",
            "40\n",
            "45\n",
            "50\n"
          ]
        }
      ]
    },
    {
      "cell_type": "markdown",
      "metadata": {
        "id": "oPcumFlidsGv"
      },
      "source": [
        "## **Ejercicio 4**"
      ]
    },
    {
      "cell_type": "markdown",
      "metadata": {
        "id": "5wvJv2GPt6Qf"
      },
      "source": [
        "Un cajero automático tiene 500.000 pesos disponibles.\n",
        "Un usuario puede retirar varias veces, pero no puede retirar más de lo que queda en el cajero. Escribe un programa que:\n",
        "\n",
        "- Pregunte cuánto quiere retirar.\n",
        "\n",
        "- Reste ese valor al saldo.\n",
        "\n",
        "- Termine cuando el saldo llegue a 0 o el usuario escriba 0."
      ]
    },
    {
      "cell_type": "code",
      "execution_count": 2,
      "metadata": {
        "colab": {
          "base_uri": "https://localhost:8080/"
        },
        "id": "BJDxIqocuEz3",
        "outputId": "47994874-431c-4ce7-8847-0be77e2f68a0"
      },
      "outputs": [
        {
          "name": "stdout",
          "output_type": "stream",
          "text": [
            "¿Cuánto quiere retirar? 200000\n",
            "Su saldo es de 300000\n",
            "¿Cuánto quiere retirar? 200000\n",
            "Su saldo es de 100000\n",
            "¿Cuánto quiere retirar? 100000\n"
          ]
        }
      ],
      "source": [
        "Cajero = 500000\n",
        "retiro = int(input(\"¿Cuánto quiere retirar? \"))\n",
        "Restante = Cajero - retiro\n",
        "while Restante > 0:\n",
        "  print(f\"Su saldo es de {Restante}\")\n",
        "  retiro = int(input(\"¿Cuánto quiere retirar? \"))\n",
        "  Restante = Restante - retiro\n",
        "\n",
        "\n"
      ]
    },
    {
      "cell_type": "markdown",
      "metadata": {
        "id": "uAz_wjs2gs7c"
      },
      "source": [
        "## **Ejercicio 5**"
      ]
    },
    {
      "cell_type": "markdown",
      "metadata": {
        "id": "3L7NHs7hSLKE"
      },
      "source": [
        "Crea una función raiz_cuadrada(num) que calcule la raíz cuadrada de un número.\n",
        "\n",
        "Si el número es negativo, devuelve: \"Error: no se puede calcular la raíz cuadrada de un número negativo.\"\n",
        "\n",
        "Si el valor no es numérico, devuelve: \"Error: el valor debe ser numérico.\"\n",
        "\n",
        "NOTA: utiliza import math y la función math.sqrt(num)"
      ]
    },
    {
      "cell_type": "code",
      "execution_count": 18,
      "metadata": {
        "id": "-fh0PUPbSNvl"
      },
      "outputs": [],
      "source": [
        "import math\n",
        "\n",
        "def raiz_cuadrada(num):\n",
        "  \"\"\"\n",
        "  realiza la raíz cuadrada de un número.\n",
        "\n",
        "  Si el número es negativo, devuelve: \"Error: no se puede calcular la raíz cuadrada de un número negativo.\"\n",
        "\n",
        "  Si el valor no es numérico, devuelve: \"Error: el valor debe ser numérico.\"\n",
        "  \"\"\"\n",
        "  try:\n",
        "    if num < 0:\n",
        "      return \"Error: no se puede calcular la raíz cuadrada de un número negativo.\"\n",
        "    else:\n",
        "      return math.sqrt(num)\n",
        "  except TypeError:\n",
        "    return \"Error: el valor debe ser numérico.\""
      ]
    },
    {
      "cell_type": "code",
      "execution_count": 21,
      "metadata": {
        "id": "lMXQSzyESOHF",
        "colab": {
          "base_uri": "https://localhost:8080/"
        },
        "outputId": "25a0b004-a0d3-40dd-8c12-65fdbcd30025"
      },
      "outputs": [
        {
          "output_type": "stream",
          "name": "stdout",
          "text": [
            "4.0\n"
          ]
        }
      ],
      "source": [
        "print(raiz_cuadrada(16))    # 4.0"
      ]
    },
    {
      "cell_type": "code",
      "execution_count": 20,
      "metadata": {
        "id": "uXkpBQrNSQi_",
        "colab": {
          "base_uri": "https://localhost:8080/"
        },
        "outputId": "cd707b38-8e34-4017-a2e0-d1bd19d66324"
      },
      "outputs": [
        {
          "output_type": "stream",
          "name": "stdout",
          "text": [
            "Error: no se puede calcular la raíz cuadrada de un número negativo.\n"
          ]
        }
      ],
      "source": [
        "print(raiz_cuadrada(-9))    # Error: no se puede calcular la raíz cuadrada de un número negativo."
      ]
    },
    {
      "cell_type": "code",
      "execution_count": 19,
      "metadata": {
        "id": "i-0qVNphSTuf",
        "colab": {
          "base_uri": "https://localhost:8080/"
        },
        "outputId": "2b93b540-1f84-4007-afbe-554efe1447a5"
      },
      "outputs": [
        {
          "output_type": "stream",
          "name": "stdout",
          "text": [
            "Error: el valor debe ser numérico.\n"
          ]
        }
      ],
      "source": [
        "print(raiz_cuadrada(\"abc\")) # Error: el valor debe ser numérico."
      ]
    },
    {
      "cell_type": "markdown",
      "metadata": {
        "id": "dOjMrj-9pfwA"
      },
      "source": [
        "## **Ejercicio 6**"
      ]
    },
    {
      "cell_type": "markdown",
      "metadata": {
        "id": "voXscZI7TPRp"
      },
      "source": [
        "Escribe una función llamada es_par que reciba un número entero como parámetro y retorne True si el número es par y False si es impar.\n",
        "\n",
        "NOTA: % es el operador módulo en Python. Lo que hace es dividir un número entre otro y devolver el residuo (lo que sobra de la división entera).\n",
        "\n",
        "Si al dividir un número en 2, el residuo es cero, entonces el número es par, de lo contrario, es impar."
      ]
    },
    {
      "cell_type": "code",
      "execution_count": 22,
      "metadata": {
        "id": "q55DMdeZTS-B"
      },
      "outputs": [],
      "source": [
        "# Para verificar que es par: numero % 2 == 0\n",
        "def es_par(numero):\n",
        "  \"\"\"\n",
        "  Verifica si un número es par o impar.\n",
        "\n",
        "  Si el número es par, devuelve True.\n",
        "  Si el número es impar, devuelve False.\n",
        "  \"\"\"\n",
        "  if numero % 2 == 0:\n",
        "    return True\n",
        "  else:\n",
        "    return False"
      ]
    },
    {
      "cell_type": "code",
      "execution_count": 23,
      "metadata": {
        "id": "BVx7hr_nTWv9",
        "colab": {
          "base_uri": "https://localhost:8080/"
        },
        "outputId": "b3b55685-4a1a-48e3-9bb1-9f99cf045f51"
      },
      "outputs": [
        {
          "output_type": "stream",
          "name": "stdout",
          "text": [
            "True\n"
          ]
        }
      ],
      "source": [
        "print(es_par(10))   # Debería imprimir True"
      ]
    },
    {
      "cell_type": "code",
      "execution_count": 24,
      "metadata": {
        "id": "EX38wbcdTTR0",
        "colab": {
          "base_uri": "https://localhost:8080/"
        },
        "outputId": "fddae2cd-832f-4efd-821c-55ec4931304d"
      },
      "outputs": [
        {
          "output_type": "stream",
          "name": "stdout",
          "text": [
            "False\n"
          ]
        }
      ],
      "source": [
        "print(es_par(7))    # Debería imprimir False"
      ]
    },
    {
      "cell_type": "markdown",
      "metadata": {
        "id": "IcNuG-Cggw47"
      },
      "source": [
        "## **Ejercicio 7**"
      ]
    },
    {
      "cell_type": "markdown",
      "metadata": {
        "id": "yJ-RPbINSAu6"
      },
      "source": [
        "Escribe un código que permita al usuario crear una contraseña y que verifique que esta cumpla todas las siguientes condiciones:\n",
        "\n",
        "- Tiene al menos 8 caracteres.\n",
        "\n",
        "- Contiene al menos una letra mayúscula.\n",
        "\n",
        "- Contiene al menos una letra minúscula.\n",
        "\n",
        "- Contiene al menos un número.\n",
        "\n",
        "Si cumple todas las condiciones, muestra \"Contraseña válida\", de lo contrario, explica qué condición no se cumple."
      ]
    },
    {
      "cell_type": "code",
      "execution_count": 52,
      "metadata": {
        "id": "306D2pg7SAF-",
        "colab": {
          "base_uri": "https://localhost:8080/"
        },
        "outputId": "5b886fca-2fd7-419e-a635-e36a314af213"
      },
      "outputs": [
        {
          "output_type": "stream",
          "name": "stdout",
          "text": [
            "Ingrese una contraseña: Hola\n",
            "La contraseña debe tener al menos 8 caracteres\n",
            "La contraseña debe contener al menos un número\n",
            "La contraseña debe tener al menos 8 caracteres\n",
            "Contraseña inválida\n"
          ]
        }
      ],
      "source": [
        "class Contraseña:\n",
        "  def __init__(self, contraseña):\n",
        "    self.contraseña = contraseña\n",
        "    self.tiene_8_caracteres()\n",
        "    self.tiene_letra_mayuscula()\n",
        "    self.tiene_letra_minuscula()\n",
        "    self.tiene_numero()\n",
        "    self.verificar()\n",
        "\n",
        "  def tiene_8_caracteres(self):\n",
        "    if len(self.contraseña) < 8:\n",
        "      print(\"La contraseña debe tener al menos 8 caracteres\")\n",
        "      return False\n",
        "    else:\n",
        "      return True\n",
        "\n",
        "  def tiene_letra_mayuscula(self):\n",
        "    for letra in self.contraseña:\n",
        "      if letra.isupper():\n",
        "        return True\n",
        "    print(\"La contraseña debe contener al menos una letra mayúscula\")\n",
        "    return False\n",
        "\n",
        "  def tiene_letra_minuscula(self):\n",
        "    for letra in self.contraseña:\n",
        "      if letra.islower():\n",
        "        return True\n",
        "\n",
        "        print(\"La contraseña debe contener al menos una letra minúscula\")\n",
        "    return False\n",
        "\n",
        "  def tiene_numero(self):\n",
        "    for letra in self.contraseña:\n",
        "      if letra.isdigit():\n",
        "        return True\n",
        "    print(\"La contraseña debe contener al menos un número\")\n",
        "    return False\n",
        "    return False\n",
        "\n",
        "  def verificar(self):\n",
        "    if self.tiene_8_caracteres() and self.tiene_letra_mayuscula() and self.tiene_letra_minuscula() and self.tiene_numero():\n",
        "      print(\"Contraseña válida\")\n",
        "\n",
        "    else:\n",
        "      print(\"Contraseña inválida\")\n",
        "      return False\n",
        "\n",
        "intento = input(\"Ingrese una contraseña: \")\n",
        "contraseña = Contraseña(intento)"
      ]
    },
    {
      "cell_type": "markdown",
      "metadata": {
        "id": "vdgQ-4Atv7TZ"
      },
      "source": [
        "## **Ejercicio 8**"
      ]
    },
    {
      "cell_type": "markdown",
      "metadata": {
        "id": "qZ5desSUv_Z9"
      },
      "source": [
        "Crea una función llamada \"extraer_dominio\" que extraiga el dominio de una página web a partir de una cadena que contenga un email de la siguiente forma:\n",
        "\n",
        "usuario@dominio.com\n",
        "    \n",
        "Por ejemplo: si se le pasa \"lmcastroco@gmail.com\", la función retornará: gmail.com"
      ]
    },
    {
      "cell_type": "code",
      "execution_count": 32,
      "metadata": {
        "id": "SnLVmAoUv_aC"
      },
      "outputs": [],
      "source": [
        "def extraer_dominio(email):\n",
        "  \"\"\"\n",
        "  Extrae el dominio de una dirección de correo electrónico.\n",
        "\n",
        "  Args:\n",
        "    email: Una cadena que contiene una dirección de correo electrónico.\n",
        "\n",
        "  Returns:\n",
        "    Una cadena que contiene el dominio de la dirección de correo electrónico.\n",
        "  \"\"\"\n",
        "  dominio = email.split('@')[1]\n",
        "  return dominio\n",
        ""
      ]
    },
    {
      "cell_type": "code",
      "execution_count": 33,
      "metadata": {
        "id": "uQK42HdWv_aI",
        "colab": {
          "base_uri": "https://localhost:8080/",
          "height": 35
        },
        "outputId": "4917b49f-b490-428b-b1fa-9cd42272851c"
      },
      "outputs": [
        {
          "output_type": "execute_result",
          "data": {
            "text/plain": [
              "'gmail.com'"
            ],
            "application/vnd.google.colaboratory.intrinsic+json": {
              "type": "string"
            }
          },
          "metadata": {},
          "execution_count": 33
        }
      ],
      "source": [
        "extraer_dominio('juanita@gmail.com')  # Debería retornar 'gmail.com'"
      ]
    },
    {
      "cell_type": "code",
      "execution_count": 34,
      "metadata": {
        "id": "44R1evuAv_aU",
        "colab": {
          "base_uri": "https://localhost:8080/",
          "height": 35
        },
        "outputId": "220115ec-7aab-4da4-a1f4-13d507bac27a"
      },
      "outputs": [
        {
          "output_type": "execute_result",
          "data": {
            "text/plain": [
              "'hotmail.com'"
            ],
            "application/vnd.google.colaboratory.intrinsic+json": {
              "type": "string"
            }
          },
          "metadata": {},
          "execution_count": 34
        }
      ],
      "source": [
        "extraer_dominio('juanita.perez@hotmail.com') # Debería retornar 'hotmail.com'"
      ]
    },
    {
      "cell_type": "markdown",
      "metadata": {
        "id": "W5GXHY7GwSxU"
      },
      "source": [
        "## **Ejercicio 9**"
      ]
    },
    {
      "cell_type": "markdown",
      "metadata": {
        "id": "TpfnyisEv_ag"
      },
      "source": [
        "Escribe una función llamada contar_desempleo que reciba una cadena y retorne el número de veces que aparece la palabra \"desempleo\" en el texto. Ten en cuenta que la palabra puede estar en mayúsculas, minúsculas o una mezcla de ellas, pero por ahora no te preocupes por casos especiales como cuando la palabra tiene algún signo de puntuación inmediatamente despúes de ésta."
      ]
    },
    {
      "cell_type": "code",
      "execution_count": 35,
      "metadata": {
        "id": "fWWwTWNl0WcE"
      },
      "outputs": [],
      "source": [
        "def contar_desempleo(cadena):\n",
        "  \"\"\"\n",
        "  Cuenta el número de veces que aparece la palabra \"desempleo\" en una cadena.\n",
        "\n",
        "  Args:\n",
        "    cadena: Una cadena de texto.\n",
        "\n",
        "  Returns:\n",
        "    El número de veces que aparece la palabra \"desempleo\" en la cadena.\n",
        "  \"\"\"\n",
        "  cadena = cadena.lower()\n",
        "  palabras = cadena.split()\n",
        "  contador = 0\n",
        "  for palabra in palabras:\n",
        "    if palabra == \"desempleo\":\n",
        "      contador += 1\n",
        "  return contador"
      ]
    },
    {
      "cell_type": "code",
      "execution_count": 36,
      "metadata": {
        "id": "kOVujSn_v_bK",
        "colab": {
          "base_uri": "https://localhost:8080/"
        },
        "outputId": "3cbfbcd5-d2aa-4cec-e718-663006745852"
      },
      "outputs": [
        {
          "output_type": "execute_result",
          "data": {
            "text/plain": [
              "2"
            ]
          },
          "metadata": {},
          "execution_count": 36
        }
      ],
      "source": [
        "contar_desempleo(\"El desempleo es un problema. El DESEMPLEO afecta a muchas personas.\")"
      ]
    },
    {
      "cell_type": "code",
      "execution_count": 37,
      "metadata": {
        "id": "xIaZJfLK0P-f",
        "colab": {
          "base_uri": "https://localhost:8080/"
        },
        "outputId": "fa39d211-cad3-4e12-e8a6-7387209d500e"
      },
      "outputs": [
        {
          "output_type": "execute_result",
          "data": {
            "text/plain": [
              "1"
            ]
          },
          "metadata": {},
          "execution_count": 37
        }
      ],
      "source": [
        "contar_desempleo(\"El dEseMPLeo aumentó en enero.\")"
      ]
    },
    {
      "cell_type": "code",
      "execution_count": 38,
      "metadata": {
        "id": "2PaQ6jV70ShH",
        "colab": {
          "base_uri": "https://localhost:8080/"
        },
        "outputId": "1443029e-ed83-40ce-dc10-0b2e0ff96821"
      },
      "outputs": [
        {
          "output_type": "execute_result",
          "data": {
            "text/plain": [
              "0"
            ]
          },
          "metadata": {},
          "execution_count": 38
        }
      ],
      "source": [
        "contar_desempleo(\"El gobierno tiene como meta reducir el número de personas desocupadas un 10%.\")"
      ]
    },
    {
      "cell_type": "markdown",
      "metadata": {
        "id": "dWBokSMZwgTc"
      },
      "source": [
        "## **Ejercicio 10**"
      ]
    },
    {
      "cell_type": "markdown",
      "metadata": {
        "id": "xE0y1M7gv_bl"
      },
      "source": [
        "Vas conduciendo un carro muy rápido y eres detenido por un agente de tránsito.\n",
        "\n",
        "Escribe una función \"multa\" que retorne uno de los 3 siguientes resultados:  \n",
        "\n",
        "- Si la velocidad es 60 Km/h o menos, el resultado es \"Sin multa\".\n",
        "- Si la velocidad está entre 60 y 80 Km/h (inclusive), el resultado es \"Multa pequeña\".\n",
        "- Si la velocidad es mayor a 80 Km/h, el resultado es \"Multa grande\".\n",
        "\n",
        "Además, considera que si esto ocurre el día de tu cumpleaños (codificado como parámetro booleano que recibe la función), tu velocidad podría ser 5 Km/ mayor en todos los casos."
      ]
    },
    {
      "cell_type": "code",
      "execution_count": 39,
      "metadata": {
        "id": "Hp7qfR0L2qJx"
      },
      "outputs": [],
      "source": [
        "def multa(velocidad, cumpleanios):\n",
        "  \"\"\"\n",
        "  Calcula la multa que se debe pagar por una velocidad de un vehículo.\n",
        "\n",
        "  Args:\n",
        "    velocidad: La velocidad del vehículo en Km/h.\n",
        "    cumpleanios: Un valor booleano que indica si es el cumpleaños del vehículo.\n",
        "\n",
        "  Returns:\n",
        "    Una cadena que indica la multa que se debe pagar.\n",
        "  \"\"\"\n",
        "  if cumpleanios:\n",
        "    velocidad -= 5\n",
        "  if velocidad <= 60:\n",
        "    return \"Sin multa\"\n",
        "  elif velocidad <= 80:\n",
        "    return \"Multa pequeña\"\n",
        "  else:\n",
        "    return \"Multa grande\""
      ]
    },
    {
      "cell_type": "code",
      "execution_count": 40,
      "metadata": {
        "id": "yLWqy7NWv_bv",
        "colab": {
          "base_uri": "https://localhost:8080/",
          "height": 35
        },
        "outputId": "d393ddc5-6f22-42da-908d-ea66f6391b66"
      },
      "outputs": [
        {
          "output_type": "execute_result",
          "data": {
            "text/plain": [
              "'Multa pequeña'"
            ],
            "application/vnd.google.colaboratory.intrinsic+json": {
              "type": "string"
            }
          },
          "metadata": {},
          "execution_count": 40
        }
      ],
      "source": [
        "multa(81, True)"
      ]
    },
    {
      "cell_type": "code",
      "execution_count": 41,
      "metadata": {
        "id": "Azjv8GE7v_b0",
        "colab": {
          "base_uri": "https://localhost:8080/",
          "height": 35
        },
        "outputId": "0c0bb7f3-8318-42c2-f6b6-3b31c0512841"
      },
      "outputs": [
        {
          "output_type": "execute_result",
          "data": {
            "text/plain": [
              "'Multa grande'"
            ],
            "application/vnd.google.colaboratory.intrinsic+json": {
              "type": "string"
            }
          },
          "metadata": {},
          "execution_count": 41
        }
      ],
      "source": [
        "multa(81, False)"
      ]
    }
  ],
  "metadata": {
    "colab": {
      "provenance": []
    },
    "kernelspec": {
      "display_name": "Python 3",
      "name": "python3"
    },
    "language_info": {
      "name": "python"
    }
  },
  "nbformat": 4,
  "nbformat_minor": 0
}