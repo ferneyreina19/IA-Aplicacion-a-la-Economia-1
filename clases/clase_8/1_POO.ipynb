{
  "cells": [
    {
      "cell_type": "markdown",
      "metadata": {
        "id": "BQg_TI8bh4y9"
      },
      "source": [
        "# **Programación Orientada a Objetos (POO)**"
      ]
    },
    {
      "cell_type": "markdown",
      "metadata": {
        "id": "uyw26RU99yRC"
      },
      "source": [
        "Elaborado por: Lina María Castro\n",
        "\n",
        "Fecha: 2 de septiembre de 2025"
      ]
    },
    {
      "cell_type": "markdown",
      "metadata": {
        "id": "Nibt3-9TEhR_"
      },
      "source": [
        "## Introducción"
      ]
    },
    {
      "cell_type": "markdown",
      "metadata": {
        "id": "Y3yjxUDbRl_I"
      },
      "source": [
        "Python trae por defecto tipos de datos como: int, bool, str, list, dict. Sin embargo, nosotros podemos crear nuestros propios tipos de datos. Para eso, usaremos el paradigma **\"Programación Orientada a Objetos\"**."
      ]
    },
    {
      "cell_type": "markdown",
      "metadata": {
        "id": "ERxHXFhsCFL9"
      },
      "source": [
        "La **Programación Orientada a Objetos (POO)** es un paradigma que permite organizar el código en **clases** (plantillas) y **objetos** (instancias de esas plantillas), los cuales tienen unos atributos y métodos.\n",
        "\n",
        "Ejemplo:  \n",
        "- Una **clase** puede ser *Empresa*.  \n",
        "- Cada **objeto** es una empresa específica (*Alpina, Ecopetrol, Bancolombia*).  \n",
        "- Cada empresa tiene **atributos** (número de empleados, sector, ingresos) y **métodos** (calcular impuestos, exportar, contratar)."
      ]
    },
    {
      "cell_type": "markdown",
      "metadata": {
        "id": "ZyMKYQfiIedn"
      },
      "source": [
        "**¿Por qué es útil?**\n",
        "\n",
        "- **Organización del código:** Permite dividir un programa en partes más pequeñas, claras y manejables (clases y objetos).\n",
        "\n",
        "- **Reutilización:** Una vez que defines una clase, puedes reutilizarla muchas veces para crear distintos objetos sin volver a escribir el mismo código.\n",
        "\n",
        "- **Mantenibilidad:** Si hay un cambio, se ajusta en un lugar (la clase) y afecta automáticamente a todos los objetos creados a partir de ella.\n",
        "\n",
        "- **Abstracción:** Nos ayuda a centrarnos en lo importante de un objeto (atributos y métodos), ocultando los detalles internos de cómo funciona.\n",
        "\n",
        "- **Escalabilidad:** Ideal para proyectos grandes, ya que permite trabajar en equipo y ampliar el código sin que se vuelva caótico."
      ]
    },
    {
      "cell_type": "markdown",
      "metadata": {
        "id": "qJQYfi_7JIvu"
      },
      "source": [
        "**Principales usos de la POO**\n",
        "\n",
        "La POO es muy usada en casi todas las áreas de programación moderna, por ejemplo:\n",
        "\n",
        "- Desarrollo de software grande y complejo.\n",
        "- Aplicaciones gráficas y videojuegos.\n",
        "- Aplicaciones móviles.\n",
        "- Desarrollo web.\n",
        "- Análisis de datos y machine learning (por ejemplo, en scikit-learn, cada modelo de machine learning es un objeto con sus propios métodos como .fit() o .predict())."
      ]
    },
    {
      "cell_type": "markdown",
      "metadata": {
        "id": "ntKdJLX5ETpW"
      },
      "source": [
        "## 2. Clases, Objetos y Atributos"
      ]
    },
    {
      "cell_type": "markdown",
      "metadata": {
        "id": "iROvi7toEyWn"
      },
      "source": [
        "- Una **clase** es una plantilla que define cómo son los objetos.\n",
        "- Un **objeto** es un ejemplo concreto de esa clase.\n",
        "- Los **atributos** son como las características o propiedades de un objeto (ejemplo: ingresos, población, sector económico)."
      ]
    },
    {
      "cell_type": "code",
      "execution_count": 1,
      "metadata": {
        "colab": {
          "base_uri": "https://localhost:8080/"
        },
        "id": "1G-F1dC4CQ8s",
        "outputId": "535e2634-b4c5-4273-8b52-b93db0286e96"
      },
      "outputs": [
        {
          "output_type": "stream",
          "name": "stdout",
          "text": [
            "Alpina - Alimentos - 500000\n",
            "Ecopetrol - Energía - 2000000\n"
          ]
        }
      ],
      "source": [
        "class Empresa:\n",
        "    def __init__(self, nombre, sector, ingresos):\n",
        "        self.nombre = nombre\n",
        "        self.sector = sector\n",
        "        self.ingresos = ingresos\n",
        "\n",
        "# Crear objetos (instancias)\n",
        "e1 = Empresa(\"Alpina\", \"Alimentos\", 500000)\n",
        "e2 = Empresa(\"Ecopetrol\", \"Energía\", 2000000)\n",
        "\n",
        "print(e1.nombre, \"-\", e1.sector, \"-\", e1.ingresos)\n",
        "print(e2.nombre, \"-\", e2.sector, \"-\", e2.ingresos)"
      ]
    },
    {
      "cell_type": "markdown",
      "metadata": {
        "id": "95boPRpVCb_-"
      },
      "source": [
        "## 3. Métodos\n",
        "\n",
        "Así como hay métodos como \"append\" para listas o \"lower\" para strings, nosotros podemos crear métodos para nuestros tipos propios.\n",
        "\n",
        "- Los **métodos** son las acciones que ese objeto puede realizar (ejemplo: calcular impuestos)."
      ]
    },
    {
      "cell_type": "code",
      "execution_count": 2,
      "metadata": {
        "colab": {
          "base_uri": "https://localhost:8080/"
        },
        "id": "AXjYLBdXCW53",
        "outputId": "e17ddcb2-a4c9-4ef9-98fb-282ab879816c"
      },
      "outputs": [
        {
          "output_type": "stream",
          "name": "stdout",
          "text": [
            "Impuesto a pagar: 300000.0\n"
          ]
        }
      ],
      "source": [
        "class Empresa:\n",
        "    def __init__(self, nombre, sector, ingresos):\n",
        "        self.nombre = nombre\n",
        "        self.sector = sector\n",
        "        self.ingresos = ingresos\n",
        "\n",
        "    def calcular_impuesto(self, tasa):\n",
        "        \"\"\"Calcula los impuestos que debe pagar la empresa\"\"\"\n",
        "        return self.ingresos * tasa\n",
        "\n",
        "# Crear una empresa\n",
        "empresa = Empresa(\"Bancolombia\", \"Financiero\", 1000000)\n",
        "\n",
        "# Calcular el impuesto con una tasa del 30%\n",
        "print(\"Impuesto a pagar:\", empresa.calcular_impuesto(0.3))\n"
      ]
    },
    {
      "cell_type": "markdown",
      "metadata": {
        "id": "u7TwC2NRCpq_"
      },
      "source": [
        "##  Ejemplo"
      ]
    },
    {
      "cell_type": "code",
      "execution_count": 3,
      "metadata": {
        "colab": {
          "base_uri": "https://localhost:8080/"
        },
        "id": "yQnLXVHOCrNb",
        "outputId": "c554277e-4a79-4b67-8846-f946bc61888e"
      },
      "outputs": [
        {
          "output_type": "stream",
          "name": "stdout",
          "text": [
            "Ana tiene un promedio de 4.17\n",
            "Carlos tiene un promedio de 3.50\n"
          ]
        }
      ],
      "source": [
        "class Estudiante:\n",
        "    def __init__(self, nombre, notas):\n",
        "        self.nombre = nombre\n",
        "        self.notas = notas\n",
        "\n",
        "    def promedio(self):\n",
        "        return sum(self.notas) / len(self.notas)\n",
        "\n",
        "# Crear estudiantes\n",
        "s1 = Estudiante(\"Ana\", [4.5, 3.8, 4.2])\n",
        "s2 = Estudiante(\"Carlos\", [3.0, 3.5, 4.0])\n",
        "\n",
        "print(f\"{s1.nombre} tiene un promedio de {s1.promedio():.2f}\")\n",
        "print(f\"{s2.nombre} tiene un promedio de {s2.promedio():.2f}\")\n"
      ]
    },
    {
      "cell_type": "markdown",
      "metadata": {
        "id": "1oJ6mbOzJrdL"
      },
      "source": [
        "## Uso de la Programación Orientada a Objetos (POO) en Machine Learning y scikit-learn"
      ]
    },
    {
      "cell_type": "markdown",
      "metadata": {
        "id": "vvRGShsAJxKx"
      },
      "source": [
        "En Machine Learning, y particularmente en la librería scikit-learn, la POO es fundamental porque cada algoritmo, conjunto de datos o transformación se maneja como un objeto."
      ]
    },
    {
      "cell_type": "markdown",
      "metadata": {
        "id": "5YOOod04KZNL"
      },
      "source": [
        "La POO hace posible que scikit-learn sea tan intuitivo y consistente. Gracias a este enfoque, los estudiantes no tienen que aprender comandos diferentes para cada algoritmo, sino que usan siempre los mismos métodos (fit, predict, transform), lo que facilita muchísimo el aprendizaje y la práctica."
      ]
    },
    {
      "cell_type": "markdown",
      "metadata": {
        "id": "jNnrc9YGKekV"
      },
      "source": [
        "**1. Clases en scikit-learn**\n",
        "\n",
        "Una clase es la plantilla de la cual se crean objetos. En scikit-learn, estas clases representan modelos de Machine Learning o herramientas de preprocesamiento.\n",
        "\n",
        "Ejemplos:\n",
        "\n",
        "- LinearRegression (regresión lineal)\n",
        "\n",
        "- DecisionTreeClassifier (árbol de decisión)\n",
        "\n",
        "- KMeans (clustering)\n",
        "\n",
        "- StandardScaler (escalado de variables)\n",
        "\n",
        "Cuando instanciamos (creamos un objeto de la clase), lo guardamos en una variable:"
      ]
    },
    {
      "cell_type": "code",
      "execution_count": 6,
      "metadata": {
        "id": "xSLuipMnKhJY"
      },
      "outputs": [],
      "source": [
        "from sklearn.linear_model import LinearRegression\n",
        "\n",
        "# \"LinearRegression\" es la clase\n",
        "modelo = LinearRegression()  # modelo es el objeto"
      ]
    },
    {
      "cell_type": "code",
      "execution_count": 7,
      "metadata": {
        "colab": {
          "base_uri": "https://localhost:8080/",
          "height": 80
        },
        "id": "XZjctiySNgTE",
        "outputId": "1ef1cb0a-9482-442c-a4f5-dad7714cacdd"
      },
      "outputs": [
        {
          "output_type": "execute_result",
          "data": {
            "text/plain": [
              "LinearRegression()"
            ],
            "text/html": [
              "<style>#sk-container-id-1 {\n",
              "  /* Definition of color scheme common for light and dark mode */\n",
              "  --sklearn-color-text: #000;\n",
              "  --sklearn-color-text-muted: #666;\n",
              "  --sklearn-color-line: gray;\n",
              "  /* Definition of color scheme for unfitted estimators */\n",
              "  --sklearn-color-unfitted-level-0: #fff5e6;\n",
              "  --sklearn-color-unfitted-level-1: #f6e4d2;\n",
              "  --sklearn-color-unfitted-level-2: #ffe0b3;\n",
              "  --sklearn-color-unfitted-level-3: chocolate;\n",
              "  /* Definition of color scheme for fitted estimators */\n",
              "  --sklearn-color-fitted-level-0: #f0f8ff;\n",
              "  --sklearn-color-fitted-level-1: #d4ebff;\n",
              "  --sklearn-color-fitted-level-2: #b3dbfd;\n",
              "  --sklearn-color-fitted-level-3: cornflowerblue;\n",
              "\n",
              "  /* Specific color for light theme */\n",
              "  --sklearn-color-text-on-default-background: var(--sg-text-color, var(--theme-code-foreground, var(--jp-content-font-color1, black)));\n",
              "  --sklearn-color-background: var(--sg-background-color, var(--theme-background, var(--jp-layout-color0, white)));\n",
              "  --sklearn-color-border-box: var(--sg-text-color, var(--theme-code-foreground, var(--jp-content-font-color1, black)));\n",
              "  --sklearn-color-icon: #696969;\n",
              "\n",
              "  @media (prefers-color-scheme: dark) {\n",
              "    /* Redefinition of color scheme for dark theme */\n",
              "    --sklearn-color-text-on-default-background: var(--sg-text-color, var(--theme-code-foreground, var(--jp-content-font-color1, white)));\n",
              "    --sklearn-color-background: var(--sg-background-color, var(--theme-background, var(--jp-layout-color0, #111)));\n",
              "    --sklearn-color-border-box: var(--sg-text-color, var(--theme-code-foreground, var(--jp-content-font-color1, white)));\n",
              "    --sklearn-color-icon: #878787;\n",
              "  }\n",
              "}\n",
              "\n",
              "#sk-container-id-1 {\n",
              "  color: var(--sklearn-color-text);\n",
              "}\n",
              "\n",
              "#sk-container-id-1 pre {\n",
              "  padding: 0;\n",
              "}\n",
              "\n",
              "#sk-container-id-1 input.sk-hidden--visually {\n",
              "  border: 0;\n",
              "  clip: rect(1px 1px 1px 1px);\n",
              "  clip: rect(1px, 1px, 1px, 1px);\n",
              "  height: 1px;\n",
              "  margin: -1px;\n",
              "  overflow: hidden;\n",
              "  padding: 0;\n",
              "  position: absolute;\n",
              "  width: 1px;\n",
              "}\n",
              "\n",
              "#sk-container-id-1 div.sk-dashed-wrapped {\n",
              "  border: 1px dashed var(--sklearn-color-line);\n",
              "  margin: 0 0.4em 0.5em 0.4em;\n",
              "  box-sizing: border-box;\n",
              "  padding-bottom: 0.4em;\n",
              "  background-color: var(--sklearn-color-background);\n",
              "}\n",
              "\n",
              "#sk-container-id-1 div.sk-container {\n",
              "  /* jupyter's `normalize.less` sets `[hidden] { display: none; }`\n",
              "     but bootstrap.min.css set `[hidden] { display: none !important; }`\n",
              "     so we also need the `!important` here to be able to override the\n",
              "     default hidden behavior on the sphinx rendered scikit-learn.org.\n",
              "     See: https://github.com/scikit-learn/scikit-learn/issues/21755 */\n",
              "  display: inline-block !important;\n",
              "  position: relative;\n",
              "}\n",
              "\n",
              "#sk-container-id-1 div.sk-text-repr-fallback {\n",
              "  display: none;\n",
              "}\n",
              "\n",
              "div.sk-parallel-item,\n",
              "div.sk-serial,\n",
              "div.sk-item {\n",
              "  /* draw centered vertical line to link estimators */\n",
              "  background-image: linear-gradient(var(--sklearn-color-text-on-default-background), var(--sklearn-color-text-on-default-background));\n",
              "  background-size: 2px 100%;\n",
              "  background-repeat: no-repeat;\n",
              "  background-position: center center;\n",
              "}\n",
              "\n",
              "/* Parallel-specific style estimator block */\n",
              "\n",
              "#sk-container-id-1 div.sk-parallel-item::after {\n",
              "  content: \"\";\n",
              "  width: 100%;\n",
              "  border-bottom: 2px solid var(--sklearn-color-text-on-default-background);\n",
              "  flex-grow: 1;\n",
              "}\n",
              "\n",
              "#sk-container-id-1 div.sk-parallel {\n",
              "  display: flex;\n",
              "  align-items: stretch;\n",
              "  justify-content: center;\n",
              "  background-color: var(--sklearn-color-background);\n",
              "  position: relative;\n",
              "}\n",
              "\n",
              "#sk-container-id-1 div.sk-parallel-item {\n",
              "  display: flex;\n",
              "  flex-direction: column;\n",
              "}\n",
              "\n",
              "#sk-container-id-1 div.sk-parallel-item:first-child::after {\n",
              "  align-self: flex-end;\n",
              "  width: 50%;\n",
              "}\n",
              "\n",
              "#sk-container-id-1 div.sk-parallel-item:last-child::after {\n",
              "  align-self: flex-start;\n",
              "  width: 50%;\n",
              "}\n",
              "\n",
              "#sk-container-id-1 div.sk-parallel-item:only-child::after {\n",
              "  width: 0;\n",
              "}\n",
              "\n",
              "/* Serial-specific style estimator block */\n",
              "\n",
              "#sk-container-id-1 div.sk-serial {\n",
              "  display: flex;\n",
              "  flex-direction: column;\n",
              "  align-items: center;\n",
              "  background-color: var(--sklearn-color-background);\n",
              "  padding-right: 1em;\n",
              "  padding-left: 1em;\n",
              "}\n",
              "\n",
              "\n",
              "/* Toggleable style: style used for estimator/Pipeline/ColumnTransformer box that is\n",
              "clickable and can be expanded/collapsed.\n",
              "- Pipeline and ColumnTransformer use this feature and define the default style\n",
              "- Estimators will overwrite some part of the style using the `sk-estimator` class\n",
              "*/\n",
              "\n",
              "/* Pipeline and ColumnTransformer style (default) */\n",
              "\n",
              "#sk-container-id-1 div.sk-toggleable {\n",
              "  /* Default theme specific background. It is overwritten whether we have a\n",
              "  specific estimator or a Pipeline/ColumnTransformer */\n",
              "  background-color: var(--sklearn-color-background);\n",
              "}\n",
              "\n",
              "/* Toggleable label */\n",
              "#sk-container-id-1 label.sk-toggleable__label {\n",
              "  cursor: pointer;\n",
              "  display: flex;\n",
              "  width: 100%;\n",
              "  margin-bottom: 0;\n",
              "  padding: 0.5em;\n",
              "  box-sizing: border-box;\n",
              "  text-align: center;\n",
              "  align-items: start;\n",
              "  justify-content: space-between;\n",
              "  gap: 0.5em;\n",
              "}\n",
              "\n",
              "#sk-container-id-1 label.sk-toggleable__label .caption {\n",
              "  font-size: 0.6rem;\n",
              "  font-weight: lighter;\n",
              "  color: var(--sklearn-color-text-muted);\n",
              "}\n",
              "\n",
              "#sk-container-id-1 label.sk-toggleable__label-arrow:before {\n",
              "  /* Arrow on the left of the label */\n",
              "  content: \"▸\";\n",
              "  float: left;\n",
              "  margin-right: 0.25em;\n",
              "  color: var(--sklearn-color-icon);\n",
              "}\n",
              "\n",
              "#sk-container-id-1 label.sk-toggleable__label-arrow:hover:before {\n",
              "  color: var(--sklearn-color-text);\n",
              "}\n",
              "\n",
              "/* Toggleable content - dropdown */\n",
              "\n",
              "#sk-container-id-1 div.sk-toggleable__content {\n",
              "  max-height: 0;\n",
              "  max-width: 0;\n",
              "  overflow: hidden;\n",
              "  text-align: left;\n",
              "  /* unfitted */\n",
              "  background-color: var(--sklearn-color-unfitted-level-0);\n",
              "}\n",
              "\n",
              "#sk-container-id-1 div.sk-toggleable__content.fitted {\n",
              "  /* fitted */\n",
              "  background-color: var(--sklearn-color-fitted-level-0);\n",
              "}\n",
              "\n",
              "#sk-container-id-1 div.sk-toggleable__content pre {\n",
              "  margin: 0.2em;\n",
              "  border-radius: 0.25em;\n",
              "  color: var(--sklearn-color-text);\n",
              "  /* unfitted */\n",
              "  background-color: var(--sklearn-color-unfitted-level-0);\n",
              "}\n",
              "\n",
              "#sk-container-id-1 div.sk-toggleable__content.fitted pre {\n",
              "  /* unfitted */\n",
              "  background-color: var(--sklearn-color-fitted-level-0);\n",
              "}\n",
              "\n",
              "#sk-container-id-1 input.sk-toggleable__control:checked~div.sk-toggleable__content {\n",
              "  /* Expand drop-down */\n",
              "  max-height: 200px;\n",
              "  max-width: 100%;\n",
              "  overflow: auto;\n",
              "}\n",
              "\n",
              "#sk-container-id-1 input.sk-toggleable__control:checked~label.sk-toggleable__label-arrow:before {\n",
              "  content: \"▾\";\n",
              "}\n",
              "\n",
              "/* Pipeline/ColumnTransformer-specific style */\n",
              "\n",
              "#sk-container-id-1 div.sk-label input.sk-toggleable__control:checked~label.sk-toggleable__label {\n",
              "  color: var(--sklearn-color-text);\n",
              "  background-color: var(--sklearn-color-unfitted-level-2);\n",
              "}\n",
              "\n",
              "#sk-container-id-1 div.sk-label.fitted input.sk-toggleable__control:checked~label.sk-toggleable__label {\n",
              "  background-color: var(--sklearn-color-fitted-level-2);\n",
              "}\n",
              "\n",
              "/* Estimator-specific style */\n",
              "\n",
              "/* Colorize estimator box */\n",
              "#sk-container-id-1 div.sk-estimator input.sk-toggleable__control:checked~label.sk-toggleable__label {\n",
              "  /* unfitted */\n",
              "  background-color: var(--sklearn-color-unfitted-level-2);\n",
              "}\n",
              "\n",
              "#sk-container-id-1 div.sk-estimator.fitted input.sk-toggleable__control:checked~label.sk-toggleable__label {\n",
              "  /* fitted */\n",
              "  background-color: var(--sklearn-color-fitted-level-2);\n",
              "}\n",
              "\n",
              "#sk-container-id-1 div.sk-label label.sk-toggleable__label,\n",
              "#sk-container-id-1 div.sk-label label {\n",
              "  /* The background is the default theme color */\n",
              "  color: var(--sklearn-color-text-on-default-background);\n",
              "}\n",
              "\n",
              "/* On hover, darken the color of the background */\n",
              "#sk-container-id-1 div.sk-label:hover label.sk-toggleable__label {\n",
              "  color: var(--sklearn-color-text);\n",
              "  background-color: var(--sklearn-color-unfitted-level-2);\n",
              "}\n",
              "\n",
              "/* Label box, darken color on hover, fitted */\n",
              "#sk-container-id-1 div.sk-label.fitted:hover label.sk-toggleable__label.fitted {\n",
              "  color: var(--sklearn-color-text);\n",
              "  background-color: var(--sklearn-color-fitted-level-2);\n",
              "}\n",
              "\n",
              "/* Estimator label */\n",
              "\n",
              "#sk-container-id-1 div.sk-label label {\n",
              "  font-family: monospace;\n",
              "  font-weight: bold;\n",
              "  display: inline-block;\n",
              "  line-height: 1.2em;\n",
              "}\n",
              "\n",
              "#sk-container-id-1 div.sk-label-container {\n",
              "  text-align: center;\n",
              "}\n",
              "\n",
              "/* Estimator-specific */\n",
              "#sk-container-id-1 div.sk-estimator {\n",
              "  font-family: monospace;\n",
              "  border: 1px dotted var(--sklearn-color-border-box);\n",
              "  border-radius: 0.25em;\n",
              "  box-sizing: border-box;\n",
              "  margin-bottom: 0.5em;\n",
              "  /* unfitted */\n",
              "  background-color: var(--sklearn-color-unfitted-level-0);\n",
              "}\n",
              "\n",
              "#sk-container-id-1 div.sk-estimator.fitted {\n",
              "  /* fitted */\n",
              "  background-color: var(--sklearn-color-fitted-level-0);\n",
              "}\n",
              "\n",
              "/* on hover */\n",
              "#sk-container-id-1 div.sk-estimator:hover {\n",
              "  /* unfitted */\n",
              "  background-color: var(--sklearn-color-unfitted-level-2);\n",
              "}\n",
              "\n",
              "#sk-container-id-1 div.sk-estimator.fitted:hover {\n",
              "  /* fitted */\n",
              "  background-color: var(--sklearn-color-fitted-level-2);\n",
              "}\n",
              "\n",
              "/* Specification for estimator info (e.g. \"i\" and \"?\") */\n",
              "\n",
              "/* Common style for \"i\" and \"?\" */\n",
              "\n",
              ".sk-estimator-doc-link,\n",
              "a:link.sk-estimator-doc-link,\n",
              "a:visited.sk-estimator-doc-link {\n",
              "  float: right;\n",
              "  font-size: smaller;\n",
              "  line-height: 1em;\n",
              "  font-family: monospace;\n",
              "  background-color: var(--sklearn-color-background);\n",
              "  border-radius: 1em;\n",
              "  height: 1em;\n",
              "  width: 1em;\n",
              "  text-decoration: none !important;\n",
              "  margin-left: 0.5em;\n",
              "  text-align: center;\n",
              "  /* unfitted */\n",
              "  border: var(--sklearn-color-unfitted-level-1) 1pt solid;\n",
              "  color: var(--sklearn-color-unfitted-level-1);\n",
              "}\n",
              "\n",
              ".sk-estimator-doc-link.fitted,\n",
              "a:link.sk-estimator-doc-link.fitted,\n",
              "a:visited.sk-estimator-doc-link.fitted {\n",
              "  /* fitted */\n",
              "  border: var(--sklearn-color-fitted-level-1) 1pt solid;\n",
              "  color: var(--sklearn-color-fitted-level-1);\n",
              "}\n",
              "\n",
              "/* On hover */\n",
              "div.sk-estimator:hover .sk-estimator-doc-link:hover,\n",
              ".sk-estimator-doc-link:hover,\n",
              "div.sk-label-container:hover .sk-estimator-doc-link:hover,\n",
              ".sk-estimator-doc-link:hover {\n",
              "  /* unfitted */\n",
              "  background-color: var(--sklearn-color-unfitted-level-3);\n",
              "  color: var(--sklearn-color-background);\n",
              "  text-decoration: none;\n",
              "}\n",
              "\n",
              "div.sk-estimator.fitted:hover .sk-estimator-doc-link.fitted:hover,\n",
              ".sk-estimator-doc-link.fitted:hover,\n",
              "div.sk-label-container:hover .sk-estimator-doc-link.fitted:hover,\n",
              ".sk-estimator-doc-link.fitted:hover {\n",
              "  /* fitted */\n",
              "  background-color: var(--sklearn-color-fitted-level-3);\n",
              "  color: var(--sklearn-color-background);\n",
              "  text-decoration: none;\n",
              "}\n",
              "\n",
              "/* Span, style for the box shown on hovering the info icon */\n",
              ".sk-estimator-doc-link span {\n",
              "  display: none;\n",
              "  z-index: 9999;\n",
              "  position: relative;\n",
              "  font-weight: normal;\n",
              "  right: .2ex;\n",
              "  padding: .5ex;\n",
              "  margin: .5ex;\n",
              "  width: min-content;\n",
              "  min-width: 20ex;\n",
              "  max-width: 50ex;\n",
              "  color: var(--sklearn-color-text);\n",
              "  box-shadow: 2pt 2pt 4pt #999;\n",
              "  /* unfitted */\n",
              "  background: var(--sklearn-color-unfitted-level-0);\n",
              "  border: .5pt solid var(--sklearn-color-unfitted-level-3);\n",
              "}\n",
              "\n",
              ".sk-estimator-doc-link.fitted span {\n",
              "  /* fitted */\n",
              "  background: var(--sklearn-color-fitted-level-0);\n",
              "  border: var(--sklearn-color-fitted-level-3);\n",
              "}\n",
              "\n",
              ".sk-estimator-doc-link:hover span {\n",
              "  display: block;\n",
              "}\n",
              "\n",
              "/* \"?\"-specific style due to the `<a>` HTML tag */\n",
              "\n",
              "#sk-container-id-1 a.estimator_doc_link {\n",
              "  float: right;\n",
              "  font-size: 1rem;\n",
              "  line-height: 1em;\n",
              "  font-family: monospace;\n",
              "  background-color: var(--sklearn-color-background);\n",
              "  border-radius: 1rem;\n",
              "  height: 1rem;\n",
              "  width: 1rem;\n",
              "  text-decoration: none;\n",
              "  /* unfitted */\n",
              "  color: var(--sklearn-color-unfitted-level-1);\n",
              "  border: var(--sklearn-color-unfitted-level-1) 1pt solid;\n",
              "}\n",
              "\n",
              "#sk-container-id-1 a.estimator_doc_link.fitted {\n",
              "  /* fitted */\n",
              "  border: var(--sklearn-color-fitted-level-1) 1pt solid;\n",
              "  color: var(--sklearn-color-fitted-level-1);\n",
              "}\n",
              "\n",
              "/* On hover */\n",
              "#sk-container-id-1 a.estimator_doc_link:hover {\n",
              "  /* unfitted */\n",
              "  background-color: var(--sklearn-color-unfitted-level-3);\n",
              "  color: var(--sklearn-color-background);\n",
              "  text-decoration: none;\n",
              "}\n",
              "\n",
              "#sk-container-id-1 a.estimator_doc_link.fitted:hover {\n",
              "  /* fitted */\n",
              "  background-color: var(--sklearn-color-fitted-level-3);\n",
              "}\n",
              "</style><div id=\"sk-container-id-1\" class=\"sk-top-container\"><div class=\"sk-text-repr-fallback\"><pre>LinearRegression()</pre><b>In a Jupyter environment, please rerun this cell to show the HTML representation or trust the notebook. <br />On GitHub, the HTML representation is unable to render, please try loading this page with nbviewer.org.</b></div><div class=\"sk-container\" hidden><div class=\"sk-item\"><div class=\"sk-estimator  sk-toggleable\"><input class=\"sk-toggleable__control sk-hidden--visually\" id=\"sk-estimator-id-1\" type=\"checkbox\" checked><label for=\"sk-estimator-id-1\" class=\"sk-toggleable__label  sk-toggleable__label-arrow\"><div><div>LinearRegression</div></div><div><a class=\"sk-estimator-doc-link \" rel=\"noreferrer\" target=\"_blank\" href=\"https://scikit-learn.org/1.6/modules/generated/sklearn.linear_model.LinearRegression.html\">?<span>Documentation for LinearRegression</span></a><span class=\"sk-estimator-doc-link \">i<span>Not fitted</span></span></div></label><div class=\"sk-toggleable__content \"><pre>LinearRegression()</pre></div> </div></div></div></div>"
            ]
          },
          "metadata": {},
          "execution_count": 7
        }
      ],
      "source": [
        "modelo"
      ]
    },
    {
      "cell_type": "markdown",
      "metadata": {
        "id": "iuc6r0ZSKkCh"
      },
      "source": [
        "**2. Atributos en scikit-learn**\n",
        "\n",
        "Los atributos son características o información que pertenecen al objeto una vez que se ha entrenado o configurado."
      ]
    },
    {
      "cell_type": "markdown",
      "metadata": {
        "id": "O3UUjWmmKqgU"
      },
      "source": [
        "Principales atributos de los modelos:\n",
        "\n",
        "- .coef_ → Coeficientes o pesos del modelo.\n",
        "\n",
        "- .intercept_ → Valor del intercepto.\n",
        "\n",
        "- .n_iter_ → Número de iteraciones realizadas (en algunos algoritmos iterativos como regresión logística, SVM, etc.).\n",
        "\n",
        "- .labels_ → Etiquetas de clusters (en KMeans).\n",
        "\n",
        "- .cluster_centers_ → Centros de clusters (en KMeans)."
      ]
    },
    {
      "cell_type": "markdown",
      "metadata": {
        "id": "FSoh1XQvN_PN"
      },
      "source": [
        "Ejemplo con regresión lineal:"
      ]
    },
    {
      "cell_type": "code",
      "execution_count": 8,
      "metadata": {
        "colab": {
          "base_uri": "https://localhost:8080/"
        },
        "id": "4rIUVHP3KjUD",
        "outputId": "b4532967-dbe8-4b5c-dea0-c6def6aee4b5"
      },
      "outputs": [
        {
          "output_type": "stream",
          "name": "stdout",
          "text": [
            "Coeficiente (pendiente): [2.]\n",
            "Intercepto: 0.0\n"
          ]
        }
      ],
      "source": [
        "from sklearn.linear_model import LinearRegression\n",
        "import numpy as np\n",
        "\n",
        "# Datos ficticios\n",
        "X = np.array([[1], [2], [3], [4], [5]])\n",
        "y = np.array([2, 4, 6, 8, 10])  # Relación perfecta y = 2x\n",
        "\n",
        "# Creamos el modelo\n",
        "modelo = LinearRegression()\n",
        "\n",
        "# Entrenamos\n",
        "modelo.fit(X, y)\n",
        "\n",
        "# Atributos\n",
        "print(\"Coeficiente (pendiente):\", modelo.coef_)\n",
        "print(\"Intercepto:\", modelo.intercept_)"
      ]
    },
    {
      "cell_type": "markdown",
      "metadata": {
        "id": "rQ_5xDbpKt5H"
      },
      "source": [
        "**3. Métodos en scikit-learn**\n",
        "\n",
        "Además de atributos, cada clase trae métodos (funciones dentro de la clase) que nos permiten hacer cosas.\n",
        "\n",
        "Los más comunes:\n",
        "\n",
        "- .fit(X, y) → Entrenar el modelo con datos.\n",
        "\n",
        "- .predict(X) → Predecir con datos nuevos.\n",
        "\n",
        "- .transform(X) → Transformar los datos (ej. escalar, normalizar).\n",
        "\n",
        "- .fit_transform(X) → Entrenar y transformar al mismo tiempo.\n",
        "\n",
        "Ejemplo con escalador:"
      ]
    },
    {
      "cell_type": "code",
      "execution_count": 9,
      "metadata": {
        "colab": {
          "base_uri": "https://localhost:8080/"
        },
        "id": "Ai3VybIxKzAj",
        "outputId": "ee431e97-2153-4777-dd44-3415e7cbf47a"
      },
      "outputs": [
        {
          "output_type": "stream",
          "name": "stdout",
          "text": [
            "Media: [3. 4.]\n",
            "Varianza: [2.66666667 2.66666667]\n",
            "Datos escalados: [[-1.22474487 -1.22474487]\n",
            " [ 0.          0.        ]\n",
            " [ 1.22474487  1.22474487]]\n"
          ]
        }
      ],
      "source": [
        "from sklearn.preprocessing import StandardScaler\n",
        "\n",
        "scaler = StandardScaler()\n",
        "X = [[1, 2], [3, 4], [5, 6]]\n",
        "\n",
        "# Entrenar y transformar\n",
        "X_scaled = scaler.fit_transform(X)\n",
        "\n",
        "print(\"Media:\", scaler.mean_)     # atributo\n",
        "print(\"Varianza:\", scaler.var_)   # atributo\n",
        "print(\"Datos escalados:\", X_scaled)  # resultado del método"
      ]
    },
    {
      "cell_type": "markdown",
      "metadata": {
        "id": "sPDu5xb1K-X8"
      },
      "source": [
        "Resumiendo:\n",
        "- Una clase es el “molde” → Ejemplo: LinearRegression.\n",
        "- Un objeto es lo que creamos al usar la clase → modelo = LinearRegression().\n",
        "- Los atributos son los datos que guarda el objeto después de entrenar → como .coef_, .intercept_, .labels_.\n",
        "- Los métodos son las funciones que podemos ejecutar sobre el objeto → como .fit(), .predict(), .transform()."
      ]
    },
    {
      "cell_type": "markdown",
      "metadata": {
        "id": "hQMCdBUZCvcw"
      },
      "source": [
        "## Ejercicios"
      ]
    },
    {
      "cell_type": "markdown",
      "metadata": {
        "id": "RegL4MFbLcDb"
      },
      "source": [
        "### Ejercicio 1:\n",
        "Cree una clase llamada `Producto` con atributos: `nombre`, `precio` y `cantidad`.  \n",
        "Agregue un método `valor_total()` que calcule el valor total del inventario del producto (precio * cantidad)."
      ]
    },
    {
      "cell_type": "code",
      "execution_count": 46,
      "metadata": {
        "id": "bCjHcto4f5zi"
      },
      "outputs": [],
      "source": [
        "class Producto:\n",
        "    def __init__(self, nombre, precio, cantidad):\n",
        "        self.nombre = nombre\n",
        "        self.precio = precio\n",
        "        self.cantidad = cantidad\n",
        "\n",
        "    def valor_total(self):\n",
        "        return self.precio * self.cantidad"
      ]
    },
    {
      "cell_type": "code",
      "execution_count": 47,
      "metadata": {
        "colab": {
          "base_uri": "https://localhost:8080/"
        },
        "id": "sX5suUTIDB5e",
        "outputId": "033c6c41-8b00-4284-f832-4f2f06442ee9"
      },
      "outputs": [
        {
          "output_type": "stream",
          "name": "stdout",
          "text": [
            "Valor total del inventario: 1000000\n"
          ]
        }
      ],
      "source": [
        "p1 = Producto(\"Café\", 20000, 50)\n",
        "print(\"Valor total del inventario:\", p1.valor_total())\n",
        "# Rta: Valor total del inventario: 1000000"
      ]
    },
    {
      "cell_type": "markdown",
      "metadata": {
        "id": "m0TEdSvXLfmp"
      },
      "source": [
        "### Ejercicio 2:\n",
        "Cree una clase llamada `País` con atributos: `nombre`, `poblacion` y `PIB`.  \n",
        "Agregue un método que calcule el **PIB per cápita**."
      ]
    },
    {
      "cell_type": "code",
      "execution_count": 44,
      "metadata": {
        "id": "itlnBIthf9LQ"
      },
      "outputs": [],
      "source": [
        "class Pais:\n",
        "    def __init__(self, nombre, poblacion, PIB):\n",
        "        self.nombre = nombre\n",
        "        self.poblacion = poblacion\n",
        "        self.PIB = PIB\n",
        "\n",
        "    def pib_per_capita(self):\n",
        "        return self.PIB / self.poblacion\n"
      ]
    },
    {
      "cell_type": "code",
      "execution_count": 45,
      "metadata": {
        "colab": {
          "base_uri": "https://localhost:8080/"
        },
        "id": "kvvKkLAiDFDE",
        "outputId": "f7ecdf47-9e8e-457b-c964-a1583ffd3ed5"
      },
      "outputs": [
        {
          "output_type": "stream",
          "name": "stdout",
          "text": [
            "PIB per cápita: 67.3076923076923\n"
          ]
        }
      ],
      "source": [
        "colombia = Pais(\"Colombia\", 52000000, 3500000000)\n",
        "print(\"PIB per cápita:\", colombia.pib_per_capita())\n",
        "# Rta: PIB per cápita: 67.30769230769231"
      ]
    },
    {
      "cell_type": "markdown",
      "metadata": {
        "id": "IdbFcXi9DYzg"
      },
      "source": [
        "### Ejercicio 3:\n",
        "Cree una clase `CuentaBancaria` con atributos: `titular` y `saldo`.  \n",
        "Agregue métodos para `depositar(monto)` y `retirar(monto)`.  \n",
        "Muestre un mensaje de error si se intenta retirar más dinero del que hay en la cuenta."
      ]
    },
    {
      "cell_type": "code",
      "execution_count": 48,
      "metadata": {
        "id": "Xm8ceJSKDTpI"
      },
      "outputs": [],
      "source": [
        "class CuentaBancaria:\n",
        "    def __init__(self, titular, saldo):\n",
        "        self.titular = titular\n",
        "        self.saldo = saldo\n",
        "\n",
        "    def depositar(self, monto):\n",
        "        self.saldo += monto\n",
        "        print(\"Depósito exitoso. Nuevo saldo:\", self.saldo)\n",
        "\n",
        "    def retirar(self, monto):\n",
        "        if monto > self.saldo:\n",
        "            print(\"Fondos insuficientes.\")\n",
        "        else:\n",
        "            self.saldo -= monto\n",
        "            print(\"Retiro exitoso. Nuevo saldo:\", self.saldo)"
      ]
    },
    {
      "cell_type": "code",
      "execution_count": 49,
      "metadata": {
        "id": "lPzwL30mgIuk"
      },
      "outputs": [],
      "source": [
        "cuenta = CuentaBancaria(\"Laura\", 100000)"
      ]
    },
    {
      "cell_type": "code",
      "execution_count": 50,
      "metadata": {
        "colab": {
          "base_uri": "https://localhost:8080/"
        },
        "id": "36BozPQegYLn",
        "outputId": "4fa22721-e5a5-4be1-f26d-173cc7bc508c"
      },
      "outputs": [
        {
          "output_type": "stream",
          "name": "stdout",
          "text": [
            "Depósito exitoso. Nuevo saldo: 150000\n"
          ]
        }
      ],
      "source": [
        "cuenta.depositar(50000)\n",
        "# Rta: Depósito exitoso. Nuevo saldo: 150000"
      ]
    },
    {
      "cell_type": "code",
      "execution_count": 51,
      "metadata": {
        "colab": {
          "base_uri": "https://localhost:8080/"
        },
        "id": "0g829qztgay7",
        "outputId": "3a70196e-d433-4a87-e8ed-20d74e533ac6"
      },
      "outputs": [
        {
          "output_type": "stream",
          "name": "stdout",
          "text": [
            "Retiro exitoso. Nuevo saldo: 30000\n"
          ]
        }
      ],
      "source": [
        "cuenta.retirar(120000)\n",
        "# Rta: Retiro exitoso. Nuevo saldo: 30000"
      ]
    },
    {
      "cell_type": "code",
      "execution_count": 52,
      "metadata": {
        "colab": {
          "base_uri": "https://localhost:8080/"
        },
        "id": "wsu-baEZgb7i",
        "outputId": "318760df-d6b6-444b-831f-c6a367d87094"
      },
      "outputs": [
        {
          "output_type": "stream",
          "name": "stdout",
          "text": [
            "Fondos insuficientes.\n"
          ]
        }
      ],
      "source": [
        "cuenta.retirar(80000)\n",
        "# Rta: Fondos insuficientes."
      ]
    }
  ],
  "metadata": {
    "colab": {
      "provenance": []
    },
    "kernelspec": {
      "display_name": "Python 3",
      "language": "python",
      "name": "python3"
    }
  },
  "nbformat": 4,
  "nbformat_minor": 0
}